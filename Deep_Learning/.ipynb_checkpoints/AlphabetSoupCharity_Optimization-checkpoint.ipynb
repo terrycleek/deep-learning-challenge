{
 "cells": [
  {
   "cell_type": "markdown",
   "metadata": {
    "id": "19NqD63pmTNE"
   },
   "source": [
    "## Preprocessing"
   ]
  },
  {
   "cell_type": "code",
   "execution_count": 2,
   "metadata": {
    "colab": {
     "base_uri": "https://localhost:8080/",
     "height": 452
    },
    "id": "E7xfLbxkmTNG",
    "outputId": "282e25b0-6fec-4ebd-ec8c-4f701e6efbe6",
    "scrolled": true
   },
   "outputs": [
    {
     "data": {
      "text/html": [
       "<div>\n",
       "<style scoped>\n",
       "    .dataframe tbody tr th:only-of-type {\n",
       "        vertical-align: middle;\n",
       "    }\n",
       "\n",
       "    .dataframe tbody tr th {\n",
       "        vertical-align: top;\n",
       "    }\n",
       "\n",
       "    .dataframe thead th {\n",
       "        text-align: right;\n",
       "    }\n",
       "</style>\n",
       "<table border=\"1\" class=\"dataframe\">\n",
       "  <thead>\n",
       "    <tr style=\"text-align: right;\">\n",
       "      <th></th>\n",
       "      <th>EIN</th>\n",
       "      <th>NAME</th>\n",
       "      <th>APPLICATION_TYPE</th>\n",
       "      <th>AFFILIATION</th>\n",
       "      <th>CLASSIFICATION</th>\n",
       "      <th>USE_CASE</th>\n",
       "      <th>ORGANIZATION</th>\n",
       "      <th>STATUS</th>\n",
       "      <th>INCOME_AMT</th>\n",
       "      <th>SPECIAL_CONSIDERATIONS</th>\n",
       "      <th>ASK_AMT</th>\n",
       "      <th>IS_SUCCESSFUL</th>\n",
       "    </tr>\n",
       "  </thead>\n",
       "  <tbody>\n",
       "    <tr>\n",
       "      <th>0</th>\n",
       "      <td>10520599</td>\n",
       "      <td>BLUE KNIGHTS MOTORCYCLE CLUB</td>\n",
       "      <td>T10</td>\n",
       "      <td>Independent</td>\n",
       "      <td>C1000</td>\n",
       "      <td>ProductDev</td>\n",
       "      <td>Association</td>\n",
       "      <td>1</td>\n",
       "      <td>0</td>\n",
       "      <td>N</td>\n",
       "      <td>5000</td>\n",
       "      <td>1</td>\n",
       "    </tr>\n",
       "    <tr>\n",
       "      <th>1</th>\n",
       "      <td>10531628</td>\n",
       "      <td>AMERICAN CHESAPEAKE CLUB CHARITABLE TR</td>\n",
       "      <td>T3</td>\n",
       "      <td>Independent</td>\n",
       "      <td>C2000</td>\n",
       "      <td>Preservation</td>\n",
       "      <td>Co-operative</td>\n",
       "      <td>1</td>\n",
       "      <td>1-9999</td>\n",
       "      <td>N</td>\n",
       "      <td>108590</td>\n",
       "      <td>1</td>\n",
       "    </tr>\n",
       "    <tr>\n",
       "      <th>2</th>\n",
       "      <td>10547893</td>\n",
       "      <td>ST CLOUD PROFESSIONAL FIREFIGHTERS</td>\n",
       "      <td>T5</td>\n",
       "      <td>CompanySponsored</td>\n",
       "      <td>C3000</td>\n",
       "      <td>ProductDev</td>\n",
       "      <td>Association</td>\n",
       "      <td>1</td>\n",
       "      <td>0</td>\n",
       "      <td>N</td>\n",
       "      <td>5000</td>\n",
       "      <td>0</td>\n",
       "    </tr>\n",
       "    <tr>\n",
       "      <th>3</th>\n",
       "      <td>10553066</td>\n",
       "      <td>SOUTHSIDE ATHLETIC ASSOCIATION</td>\n",
       "      <td>T3</td>\n",
       "      <td>CompanySponsored</td>\n",
       "      <td>C2000</td>\n",
       "      <td>Preservation</td>\n",
       "      <td>Trust</td>\n",
       "      <td>1</td>\n",
       "      <td>10000-24999</td>\n",
       "      <td>N</td>\n",
       "      <td>6692</td>\n",
       "      <td>1</td>\n",
       "    </tr>\n",
       "    <tr>\n",
       "      <th>4</th>\n",
       "      <td>10556103</td>\n",
       "      <td>GENETIC RESEARCH INSTITUTE OF THE DESERT</td>\n",
       "      <td>T3</td>\n",
       "      <td>Independent</td>\n",
       "      <td>C1000</td>\n",
       "      <td>Heathcare</td>\n",
       "      <td>Trust</td>\n",
       "      <td>1</td>\n",
       "      <td>100000-499999</td>\n",
       "      <td>N</td>\n",
       "      <td>142590</td>\n",
       "      <td>1</td>\n",
       "    </tr>\n",
       "  </tbody>\n",
       "</table>\n",
       "</div>"
      ],
      "text/plain": [
       "        EIN                                      NAME APPLICATION_TYPE  \\\n",
       "0  10520599              BLUE KNIGHTS MOTORCYCLE CLUB              T10   \n",
       "1  10531628    AMERICAN CHESAPEAKE CLUB CHARITABLE TR               T3   \n",
       "2  10547893        ST CLOUD PROFESSIONAL FIREFIGHTERS               T5   \n",
       "3  10553066            SOUTHSIDE ATHLETIC ASSOCIATION               T3   \n",
       "4  10556103  GENETIC RESEARCH INSTITUTE OF THE DESERT               T3   \n",
       "\n",
       "        AFFILIATION CLASSIFICATION      USE_CASE  ORGANIZATION  STATUS  \\\n",
       "0       Independent          C1000    ProductDev   Association       1   \n",
       "1       Independent          C2000  Preservation  Co-operative       1   \n",
       "2  CompanySponsored          C3000    ProductDev   Association       1   \n",
       "3  CompanySponsored          C2000  Preservation         Trust       1   \n",
       "4       Independent          C1000     Heathcare         Trust       1   \n",
       "\n",
       "      INCOME_AMT SPECIAL_CONSIDERATIONS  ASK_AMT  IS_SUCCESSFUL  \n",
       "0              0                      N     5000              1  \n",
       "1         1-9999                      N   108590              1  \n",
       "2              0                      N     5000              0  \n",
       "3    10000-24999                      N     6692              1  \n",
       "4  100000-499999                      N   142590              1  "
      ]
     },
     "execution_count": 2,
     "metadata": {},
     "output_type": "execute_result"
    }
   ],
   "source": [
    "# Import our dependencies\n",
    "from sklearn.model_selection import train_test_split\n",
    "from sklearn.preprocessing import StandardScaler\n",
    "import pandas as pd\n",
    "import tensorflow as tf\n",
    "\n",
    "#  Import and read the charity_data.csv.\n",
    "import pandas as pd\n",
    "application_df = pd.read_csv(\"https://static.bc-edx.com/data/dl-1-2/m21/lms/starter/charity_data.csv\")\n",
    "application_df.head()"
   ]
  },
  {
   "cell_type": "code",
   "execution_count": 3,
   "metadata": {
    "colab": {
     "base_uri": "https://localhost:8080/"
    },
    "id": "rD-QdBx6mTNH",
    "outputId": "7e162564-1a1e-4c8a-fd2b-0dc27cbd601f"
   },
   "outputs": [
    {
     "name": "stdout",
     "output_type": "stream",
     "text": [
      "Index(['EIN', 'NAME', 'APPLICATION_TYPE', 'AFFILIATION', 'CLASSIFICATION',\n",
      "       'USE_CASE', 'ORGANIZATION', 'STATUS', 'INCOME_AMT',\n",
      "       'SPECIAL_CONSIDERATIONS', 'ASK_AMT', 'IS_SUCCESSFUL'],\n",
      "      dtype='object')\n"
     ]
    }
   ],
   "source": [
    "print(application_df.columns)"
   ]
  },
  {
   "cell_type": "code",
   "execution_count": 4,
   "metadata": {
    "id": "RAeq71AVmTNI"
   },
   "outputs": [],
   "source": [
    "# Drop the non-beneficial ID columns, 'EIN' and 'NAME'.\n",
    "application_df = application_df.drop([\"EIN\", \"NAME\"], axis=1)\n"
   ]
  },
  {
   "cell_type": "code",
   "execution_count": 5,
   "metadata": {
    "colab": {
     "base_uri": "https://localhost:8080/",
     "height": 206
    },
    "id": "4gS4kYQjmTNI",
    "outputId": "4cecd413-dba0-472d-b034-73698ac9a4cb"
   },
   "outputs": [
    {
     "data": {
      "text/html": [
       "<div>\n",
       "<style scoped>\n",
       "    .dataframe tbody tr th:only-of-type {\n",
       "        vertical-align: middle;\n",
       "    }\n",
       "\n",
       "    .dataframe tbody tr th {\n",
       "        vertical-align: top;\n",
       "    }\n",
       "\n",
       "    .dataframe thead th {\n",
       "        text-align: right;\n",
       "    }\n",
       "</style>\n",
       "<table border=\"1\" class=\"dataframe\">\n",
       "  <thead>\n",
       "    <tr style=\"text-align: right;\">\n",
       "      <th></th>\n",
       "      <th>APPLICATION_TYPE</th>\n",
       "      <th>AFFILIATION</th>\n",
       "      <th>CLASSIFICATION</th>\n",
       "      <th>USE_CASE</th>\n",
       "      <th>ORGANIZATION</th>\n",
       "      <th>STATUS</th>\n",
       "      <th>INCOME_AMT</th>\n",
       "      <th>SPECIAL_CONSIDERATIONS</th>\n",
       "      <th>ASK_AMT</th>\n",
       "      <th>IS_SUCCESSFUL</th>\n",
       "    </tr>\n",
       "  </thead>\n",
       "  <tbody>\n",
       "    <tr>\n",
       "      <th>0</th>\n",
       "      <td>T10</td>\n",
       "      <td>Independent</td>\n",
       "      <td>C1000</td>\n",
       "      <td>ProductDev</td>\n",
       "      <td>Association</td>\n",
       "      <td>1</td>\n",
       "      <td>0</td>\n",
       "      <td>N</td>\n",
       "      <td>5000</td>\n",
       "      <td>1</td>\n",
       "    </tr>\n",
       "    <tr>\n",
       "      <th>1</th>\n",
       "      <td>T3</td>\n",
       "      <td>Independent</td>\n",
       "      <td>C2000</td>\n",
       "      <td>Preservation</td>\n",
       "      <td>Co-operative</td>\n",
       "      <td>1</td>\n",
       "      <td>1-9999</td>\n",
       "      <td>N</td>\n",
       "      <td>108590</td>\n",
       "      <td>1</td>\n",
       "    </tr>\n",
       "    <tr>\n",
       "      <th>2</th>\n",
       "      <td>T5</td>\n",
       "      <td>CompanySponsored</td>\n",
       "      <td>C3000</td>\n",
       "      <td>ProductDev</td>\n",
       "      <td>Association</td>\n",
       "      <td>1</td>\n",
       "      <td>0</td>\n",
       "      <td>N</td>\n",
       "      <td>5000</td>\n",
       "      <td>0</td>\n",
       "    </tr>\n",
       "    <tr>\n",
       "      <th>3</th>\n",
       "      <td>T3</td>\n",
       "      <td>CompanySponsored</td>\n",
       "      <td>C2000</td>\n",
       "      <td>Preservation</td>\n",
       "      <td>Trust</td>\n",
       "      <td>1</td>\n",
       "      <td>10000-24999</td>\n",
       "      <td>N</td>\n",
       "      <td>6692</td>\n",
       "      <td>1</td>\n",
       "    </tr>\n",
       "    <tr>\n",
       "      <th>4</th>\n",
       "      <td>T3</td>\n",
       "      <td>Independent</td>\n",
       "      <td>C1000</td>\n",
       "      <td>Heathcare</td>\n",
       "      <td>Trust</td>\n",
       "      <td>1</td>\n",
       "      <td>100000-499999</td>\n",
       "      <td>N</td>\n",
       "      <td>142590</td>\n",
       "      <td>1</td>\n",
       "    </tr>\n",
       "  </tbody>\n",
       "</table>\n",
       "</div>"
      ],
      "text/plain": [
       "  APPLICATION_TYPE       AFFILIATION CLASSIFICATION      USE_CASE  \\\n",
       "0              T10       Independent          C1000    ProductDev   \n",
       "1               T3       Independent          C2000  Preservation   \n",
       "2               T5  CompanySponsored          C3000    ProductDev   \n",
       "3               T3  CompanySponsored          C2000  Preservation   \n",
       "4               T3       Independent          C1000     Heathcare   \n",
       "\n",
       "   ORGANIZATION  STATUS     INCOME_AMT SPECIAL_CONSIDERATIONS  ASK_AMT  \\\n",
       "0   Association       1              0                      N     5000   \n",
       "1  Co-operative       1         1-9999                      N   108590   \n",
       "2   Association       1              0                      N     5000   \n",
       "3         Trust       1    10000-24999                      N     6692   \n",
       "4         Trust       1  100000-499999                      N   142590   \n",
       "\n",
       "   IS_SUCCESSFUL  \n",
       "0              1  \n",
       "1              1  \n",
       "2              0  \n",
       "3              1  \n",
       "4              1  "
      ]
     },
     "execution_count": 5,
     "metadata": {},
     "output_type": "execute_result"
    }
   ],
   "source": [
    "# Test columns are dropped\n",
    "application_df.head()"
   ]
  },
  {
   "cell_type": "code",
   "execution_count": 6,
   "metadata": {
    "colab": {
     "base_uri": "https://localhost:8080/"
    },
    "id": "fiPZ0BtnmTNJ",
    "outputId": "8f9445e3-6d5a-4d2b-cce9-1b36cdd47a88"
   },
   "outputs": [
    {
     "data": {
      "text/plain": [
       "APPLICATION_TYPE            17\n",
       "AFFILIATION                  6\n",
       "CLASSIFICATION              71\n",
       "USE_CASE                     5\n",
       "ORGANIZATION                 4\n",
       "STATUS                       2\n",
       "INCOME_AMT                   9\n",
       "SPECIAL_CONSIDERATIONS       2\n",
       "ASK_AMT                   8747\n",
       "IS_SUCCESSFUL                2\n",
       "dtype: int64"
      ]
     },
     "execution_count": 6,
     "metadata": {},
     "output_type": "execute_result"
    }
   ],
   "source": [
    "# Determine the number of unique values in each column.\n",
    "application_df.nunique()"
   ]
  },
  {
   "cell_type": "code",
   "execution_count": 7,
   "metadata": {
    "colab": {
     "base_uri": "https://localhost:8080/"
    },
    "id": "Y7-6_gUGmTNJ",
    "outputId": "9e214e29-b754-407b-a788-b47d6af07cca"
   },
   "outputs": [
    {
     "data": {
      "text/plain": [
       "APPLICATION_TYPE\n",
       "T3     27037\n",
       "T4      1542\n",
       "T6      1216\n",
       "T5      1173\n",
       "T19     1065\n",
       "T8       737\n",
       "T7       725\n",
       "T10      528\n",
       "T9       156\n",
       "T13       66\n",
       "T12       27\n",
       "T2        16\n",
       "T25        3\n",
       "T14        3\n",
       "T29        2\n",
       "T15        2\n",
       "T17        1\n",
       "Name: count, dtype: int64"
      ]
     },
     "execution_count": 7,
     "metadata": {},
     "output_type": "execute_result"
    }
   ],
   "source": [
    "# Look at APPLICATION_TYPE value counts for binning\n",
    "counts = application_df[\"APPLICATION_TYPE\"].value_counts()\n",
    "counts"
   ]
  },
  {
   "cell_type": "code",
   "execution_count": 8,
   "metadata": {
    "colab": {
     "base_uri": "https://localhost:8080/"
    },
    "id": "Wjaa7NeUmTNJ",
    "outputId": "c7b3833f-80bf-4c16-a226-189d13c46f29"
   },
   "outputs": [
    {
     "data": {
      "text/plain": [
       "APPLICATION_TYPE\n",
       "T3       27037\n",
       "T4        1542\n",
       "T6        1216\n",
       "T5        1173\n",
       "T19       1065\n",
       "T8         737\n",
       "T7         725\n",
       "T10        528\n",
       "Other      276\n",
       "Name: count, dtype: int64"
      ]
     },
     "execution_count": 8,
     "metadata": {},
     "output_type": "execute_result"
    }
   ],
   "source": [
    "# Choose a cutoff value and create a list of application types to be replaced\n",
    "# use the variable name `application_types_to_replace`\n",
    "application_types_to_replace = list(counts[counts < 500].index)\n",
    "\n",
    "# Replace in dataframe\n",
    "for app in application_types_to_replace:\n",
    "    application_df['APPLICATION_TYPE'] = application_df['APPLICATION_TYPE'].replace(app,\"Other\")\n",
    "\n",
    "# Check to make sure binning was successful\n",
    "application_df['APPLICATION_TYPE'].value_counts()"
   ]
  },
  {
   "cell_type": "code",
   "execution_count": 9,
   "metadata": {
    "colab": {
     "base_uri": "https://localhost:8080/"
    },
    "id": "TFE7nKyBmTNK",
    "outputId": "4dd29a9d-8aad-407f-dc24-229f9c4402eb"
   },
   "outputs": [
    {
     "data": {
      "text/plain": [
       "CLASSIFICATION\n",
       "C1000    17326\n",
       "C2000     6074\n",
       "C1200     4837\n",
       "C3000     1918\n",
       "C2100     1883\n",
       "         ...  \n",
       "C4120        1\n",
       "C8210        1\n",
       "C2561        1\n",
       "C4500        1\n",
       "C2150        1\n",
       "Name: count, Length: 71, dtype: int64"
      ]
     },
     "execution_count": 9,
     "metadata": {},
     "output_type": "execute_result"
    }
   ],
   "source": [
    "# Look at CLASSIFICATION value counts for binning\n",
    "classification_counts = application_df.CLASSIFICATION.value_counts()\n",
    "classification_counts"
   ]
  },
  {
   "cell_type": "code",
   "execution_count": 10,
   "metadata": {
    "colab": {
     "base_uri": "https://localhost:8080/"
    },
    "id": "SOjWpp5gmTNM",
    "outputId": "0611af8c-159a-419b-f31f-baae8a623d0f"
   },
   "outputs": [
    {
     "data": {
      "text/plain": [
       "CLASSIFICATION\n",
       "C1000    17326\n",
       "C2000     6074\n",
       "C1200     4837\n",
       "C3000     1918\n",
       "C2100     1883\n",
       "C7000      777\n",
       "C1700      287\n",
       "C4000      194\n",
       "C5000      116\n",
       "C1270      114\n",
       "C2700      104\n",
       "C2800       95\n",
       "C7100       75\n",
       "C1300       58\n",
       "C1280       50\n",
       "C1230       36\n",
       "C1400       34\n",
       "C7200       32\n",
       "C2300       32\n",
       "C1240       30\n",
       "C8000       20\n",
       "C7120       18\n",
       "C1500       16\n",
       "C1800       15\n",
       "C6000       15\n",
       "C1250       14\n",
       "C8200       11\n",
       "C1238       10\n",
       "C1278       10\n",
       "C1235        9\n",
       "C1237        9\n",
       "C7210        7\n",
       "C2400        6\n",
       "C1720        6\n",
       "C4100        6\n",
       "C1257        5\n",
       "C1600        5\n",
       "C1260        3\n",
       "C2710        3\n",
       "C0           3\n",
       "C3200        2\n",
       "C1234        2\n",
       "C1246        2\n",
       "C1267        2\n",
       "C1256        2\n",
       "Name: count, dtype: int64"
      ]
     },
     "execution_count": 10,
     "metadata": {},
     "output_type": "execute_result"
    }
   ],
   "source": [
    "# You may find it helpful to look at CLASSIFICATION value counts >1  #testing >10\n",
    "classification_counts[classification_counts >1]"
   ]
  },
  {
   "cell_type": "code",
   "execution_count": 11,
   "metadata": {
    "colab": {
     "base_uri": "https://localhost:8080/"
    },
    "id": "a8lna6mJmTNM",
    "outputId": "c74572db-3ab9-4603-9731-5384ded01ff4"
   },
   "outputs": [
    {
     "data": {
      "text/plain": [
       "CLASSIFICATION\n",
       "C1000    17326\n",
       "C2000     6074\n",
       "C1200     4837\n",
       "Other     2261\n",
       "C3000     1918\n",
       "C2100     1883\n",
       "Name: count, dtype: int64"
      ]
     },
     "execution_count": 11,
     "metadata": {},
     "output_type": "execute_result"
    }
   ],
   "source": [
    "# Choose a cutoff value and create a list of classifications to be replaced\n",
    "# use the variable name `classifications_to_replace`\n",
    "classifications_to_replace = list(classification_counts[classification_counts < 1000].index)\n",
    "\n",
    "# Replace in dataframe\n",
    "for cls in classifications_to_replace:\n",
    "    application_df['CLASSIFICATION'] = application_df['CLASSIFICATION'].replace(cls,\"Other\")\n",
    "\n",
    "# Check to make sure binning was successful\n",
    "application_df['CLASSIFICATION'].value_counts()"
   ]
  },
  {
   "cell_type": "code",
   "execution_count": 12,
   "metadata": {
    "colab": {
     "base_uri": "https://localhost:8080/",
     "height": 256
    },
    "id": "pBAry3FImTNM",
    "outputId": "bd69bea1-4fd1-43d3-ed31-bc1e9b247860"
   },
   "outputs": [
    {
     "data": {
      "text/html": [
       "<div>\n",
       "<style scoped>\n",
       "    .dataframe tbody tr th:only-of-type {\n",
       "        vertical-align: middle;\n",
       "    }\n",
       "\n",
       "    .dataframe tbody tr th {\n",
       "        vertical-align: top;\n",
       "    }\n",
       "\n",
       "    .dataframe thead th {\n",
       "        text-align: right;\n",
       "    }\n",
       "</style>\n",
       "<table border=\"1\" class=\"dataframe\">\n",
       "  <thead>\n",
       "    <tr style=\"text-align: right;\">\n",
       "      <th></th>\n",
       "      <th>STATUS</th>\n",
       "      <th>ASK_AMT</th>\n",
       "      <th>IS_SUCCESSFUL</th>\n",
       "      <th>APPLICATION_TYPE_Other</th>\n",
       "      <th>APPLICATION_TYPE_T10</th>\n",
       "      <th>APPLICATION_TYPE_T19</th>\n",
       "      <th>APPLICATION_TYPE_T3</th>\n",
       "      <th>APPLICATION_TYPE_T4</th>\n",
       "      <th>APPLICATION_TYPE_T5</th>\n",
       "      <th>APPLICATION_TYPE_T6</th>\n",
       "      <th>...</th>\n",
       "      <th>INCOME_AMT_1-9999</th>\n",
       "      <th>INCOME_AMT_10000-24999</th>\n",
       "      <th>INCOME_AMT_100000-499999</th>\n",
       "      <th>INCOME_AMT_10M-50M</th>\n",
       "      <th>INCOME_AMT_1M-5M</th>\n",
       "      <th>INCOME_AMT_25000-99999</th>\n",
       "      <th>INCOME_AMT_50M+</th>\n",
       "      <th>INCOME_AMT_5M-10M</th>\n",
       "      <th>SPECIAL_CONSIDERATIONS_N</th>\n",
       "      <th>SPECIAL_CONSIDERATIONS_Y</th>\n",
       "    </tr>\n",
       "  </thead>\n",
       "  <tbody>\n",
       "    <tr>\n",
       "      <th>0</th>\n",
       "      <td>1</td>\n",
       "      <td>5000</td>\n",
       "      <td>1</td>\n",
       "      <td>False</td>\n",
       "      <td>True</td>\n",
       "      <td>False</td>\n",
       "      <td>False</td>\n",
       "      <td>False</td>\n",
       "      <td>False</td>\n",
       "      <td>False</td>\n",
       "      <td>...</td>\n",
       "      <td>False</td>\n",
       "      <td>False</td>\n",
       "      <td>False</td>\n",
       "      <td>False</td>\n",
       "      <td>False</td>\n",
       "      <td>False</td>\n",
       "      <td>False</td>\n",
       "      <td>False</td>\n",
       "      <td>True</td>\n",
       "      <td>False</td>\n",
       "    </tr>\n",
       "    <tr>\n",
       "      <th>1</th>\n",
       "      <td>1</td>\n",
       "      <td>108590</td>\n",
       "      <td>1</td>\n",
       "      <td>False</td>\n",
       "      <td>False</td>\n",
       "      <td>False</td>\n",
       "      <td>True</td>\n",
       "      <td>False</td>\n",
       "      <td>False</td>\n",
       "      <td>False</td>\n",
       "      <td>...</td>\n",
       "      <td>True</td>\n",
       "      <td>False</td>\n",
       "      <td>False</td>\n",
       "      <td>False</td>\n",
       "      <td>False</td>\n",
       "      <td>False</td>\n",
       "      <td>False</td>\n",
       "      <td>False</td>\n",
       "      <td>True</td>\n",
       "      <td>False</td>\n",
       "    </tr>\n",
       "    <tr>\n",
       "      <th>2</th>\n",
       "      <td>1</td>\n",
       "      <td>5000</td>\n",
       "      <td>0</td>\n",
       "      <td>False</td>\n",
       "      <td>False</td>\n",
       "      <td>False</td>\n",
       "      <td>False</td>\n",
       "      <td>False</td>\n",
       "      <td>True</td>\n",
       "      <td>False</td>\n",
       "      <td>...</td>\n",
       "      <td>False</td>\n",
       "      <td>False</td>\n",
       "      <td>False</td>\n",
       "      <td>False</td>\n",
       "      <td>False</td>\n",
       "      <td>False</td>\n",
       "      <td>False</td>\n",
       "      <td>False</td>\n",
       "      <td>True</td>\n",
       "      <td>False</td>\n",
       "    </tr>\n",
       "    <tr>\n",
       "      <th>3</th>\n",
       "      <td>1</td>\n",
       "      <td>6692</td>\n",
       "      <td>1</td>\n",
       "      <td>False</td>\n",
       "      <td>False</td>\n",
       "      <td>False</td>\n",
       "      <td>True</td>\n",
       "      <td>False</td>\n",
       "      <td>False</td>\n",
       "      <td>False</td>\n",
       "      <td>...</td>\n",
       "      <td>False</td>\n",
       "      <td>True</td>\n",
       "      <td>False</td>\n",
       "      <td>False</td>\n",
       "      <td>False</td>\n",
       "      <td>False</td>\n",
       "      <td>False</td>\n",
       "      <td>False</td>\n",
       "      <td>True</td>\n",
       "      <td>False</td>\n",
       "    </tr>\n",
       "    <tr>\n",
       "      <th>4</th>\n",
       "      <td>1</td>\n",
       "      <td>142590</td>\n",
       "      <td>1</td>\n",
       "      <td>False</td>\n",
       "      <td>False</td>\n",
       "      <td>False</td>\n",
       "      <td>True</td>\n",
       "      <td>False</td>\n",
       "      <td>False</td>\n",
       "      <td>False</td>\n",
       "      <td>...</td>\n",
       "      <td>False</td>\n",
       "      <td>False</td>\n",
       "      <td>True</td>\n",
       "      <td>False</td>\n",
       "      <td>False</td>\n",
       "      <td>False</td>\n",
       "      <td>False</td>\n",
       "      <td>False</td>\n",
       "      <td>True</td>\n",
       "      <td>False</td>\n",
       "    </tr>\n",
       "  </tbody>\n",
       "</table>\n",
       "<p>5 rows × 44 columns</p>\n",
       "</div>"
      ],
      "text/plain": [
       "   STATUS  ASK_AMT  IS_SUCCESSFUL  APPLICATION_TYPE_Other  \\\n",
       "0       1     5000              1                   False   \n",
       "1       1   108590              1                   False   \n",
       "2       1     5000              0                   False   \n",
       "3       1     6692              1                   False   \n",
       "4       1   142590              1                   False   \n",
       "\n",
       "   APPLICATION_TYPE_T10  APPLICATION_TYPE_T19  APPLICATION_TYPE_T3  \\\n",
       "0                  True                 False                False   \n",
       "1                 False                 False                 True   \n",
       "2                 False                 False                False   \n",
       "3                 False                 False                 True   \n",
       "4                 False                 False                 True   \n",
       "\n",
       "   APPLICATION_TYPE_T4  APPLICATION_TYPE_T5  APPLICATION_TYPE_T6  ...  \\\n",
       "0                False                False                False  ...   \n",
       "1                False                False                False  ...   \n",
       "2                False                 True                False  ...   \n",
       "3                False                False                False  ...   \n",
       "4                False                False                False  ...   \n",
       "\n",
       "   INCOME_AMT_1-9999  INCOME_AMT_10000-24999  INCOME_AMT_100000-499999  \\\n",
       "0              False                   False                     False   \n",
       "1               True                   False                     False   \n",
       "2              False                   False                     False   \n",
       "3              False                    True                     False   \n",
       "4              False                   False                      True   \n",
       "\n",
       "   INCOME_AMT_10M-50M  INCOME_AMT_1M-5M  INCOME_AMT_25000-99999  \\\n",
       "0               False             False                   False   \n",
       "1               False             False                   False   \n",
       "2               False             False                   False   \n",
       "3               False             False                   False   \n",
       "4               False             False                   False   \n",
       "\n",
       "   INCOME_AMT_50M+  INCOME_AMT_5M-10M  SPECIAL_CONSIDERATIONS_N  \\\n",
       "0            False              False                      True   \n",
       "1            False              False                      True   \n",
       "2            False              False                      True   \n",
       "3            False              False                      True   \n",
       "4            False              False                      True   \n",
       "\n",
       "   SPECIAL_CONSIDERATIONS_Y  \n",
       "0                     False  \n",
       "1                     False  \n",
       "2                     False  \n",
       "3                     False  \n",
       "4                     False  \n",
       "\n",
       "[5 rows x 44 columns]"
      ]
     },
     "execution_count": 12,
     "metadata": {},
     "output_type": "execute_result"
    }
   ],
   "source": [
    "# Convert categorical data to numeric with `pd.get_dummies`\n",
    "application_dummies_df = pd.get_dummies(application_df)\n",
    "application_dummies_df.head()"
   ]
  },
  {
   "cell_type": "code",
   "execution_count": 13,
   "metadata": {
    "id": "6sMhk1d2mTNN"
   },
   "outputs": [],
   "source": [
    "# Split our preprocessed data into our features and target arrays\n",
    "X = application_dummies_df.drop([\"IS_SUCCESSFUL\"], axis ='columns').values\n",
    "y = application_dummies_df[\"IS_SUCCESSFUL\"].values\n",
    "\n",
    "# Split the preprocessed data into a training and testing dataset\n",
    "X_train, X_test, y_train, y_test = train_test_split(X, y, random_state=78)"
   ]
  },
  {
   "cell_type": "code",
   "execution_count": 14,
   "metadata": {
    "id": "etdTh-VAmTNN"
   },
   "outputs": [],
   "source": [
    "# Create a StandardScaler instances\n",
    "scaler = StandardScaler()\n",
    "\n",
    "# Fit the StandardScaler\n",
    "X_scaler = scaler.fit(X_train)\n",
    "\n",
    "# Scale the data\n",
    "X_train_scaled = X_scaler.transform(X_train)\n",
    "X_test_scaled = X_scaler.transform(X_test)"
   ]
  },
  {
   "cell_type": "code",
   "execution_count": 15,
   "metadata": {
    "colab": {
     "base_uri": "https://localhost:8080/"
    },
    "id": "k-M5jZ-PmTNN",
    "outputId": "7a1c6f75-d0bb-479a-c41a-3d01f990eb67"
   },
   "outputs": [
    {
     "name": "stdout",
     "output_type": "stream",
     "text": [
      "[1 5000 False False False False False False True False False True False\n",
      " False False False False False False True False False False False False\n",
      " False False True False False False True True False False False False\n",
      " False False False False True False]\n"
     ]
    }
   ],
   "source": [
    "first_row = X_train[0]\n",
    "print(first_row)"
   ]
  },
  {
   "cell_type": "markdown",
   "metadata": {
    "id": "51F1NruxmTNN"
   },
   "source": [
    "## Compile, Train and Evaluate the Model"
   ]
  },
  {
   "cell_type": "code",
   "execution_count": 16,
   "metadata": {
    "colab": {
     "base_uri": "https://localhost:8080/"
    },
    "id": "3xifrJ7ImTNO",
    "outputId": "f23559c3-6aad-442d-cdd2-f0bb39711a58"
   },
   "outputs": [
    {
     "name": "stdout",
     "output_type": "stream",
     "text": [
      "Model: \"sequential\"\n",
      "_________________________________________________________________\n",
      " Layer (type)                Output Shape              Param #   \n",
      "=================================================================\n",
      " dense (Dense)               (None, 128)               5632      \n",
      "                                                                 \n",
      " dense_1 (Dense)             (None, 64)                8256      \n",
      "                                                                 \n",
      " dense_2 (Dense)             (None, 64)                4160      \n",
      "                                                                 \n",
      " dense_3 (Dense)             (None, 1)                 65        \n",
      "                                                                 \n",
      "=================================================================\n",
      "Total params: 18113 (70.75 KB)\n",
      "Trainable params: 18113 (70.75 KB)\n",
      "Non-trainable params: 0 (0.00 Byte)\n",
      "_________________________________________________________________\n"
     ]
    }
   ],
   "source": [
    "# Define the model - deep neural net, i.e., the number of input features and hidden nodes for each layer.\n",
    "input_features =len(X_train[0])\n",
    "hidden_nodes_layer1 = 128\n",
    "hidden_nodes_layer2 = 64\n",
    "hidden_nodes_layer3 = 32\n",
    "\n",
    "nn = tf.keras.models.Sequential()\n",
    "\n",
    "# First hidden layer\n",
    "nn.add(\n",
    "    tf.keras.layers.Dense(units=hidden_nodes_layer1, input_dim=input_features, activation=\"relu\"))\n",
    "\n",
    "# Second hidden layer\n",
    "nn.add(tf.keras.layers.Dense(units=hidden_nodes_layer2, activation=\"relu\"))\n",
    "\n",
    "# Third hidden layer\n",
    "nn.add(tf.keras.layers.Dense(units=hidden_nodes_layer2, activation=\"sigmoid\"))\n",
    "\n",
    "# Output layer\n",
    "nn.add(tf.keras.layers.Dense(units=1, activation=\"sigmoid\"))\n",
    "\n",
    "# Check the structure of the model\n",
    "nn.summary()"
   ]
  },
  {
   "cell_type": "code",
   "execution_count": 17,
   "metadata": {
    "id": "aLg7pMqBmTNO"
   },
   "outputs": [],
   "source": [
    "# Compile the model\n",
    "nn.compile(loss=\"binary_crossentropy\", optimizer=\"adam\", metrics=[\"accuracy\"])"
   ]
  },
  {
   "cell_type": "code",
   "execution_count": 18,
   "metadata": {
    "colab": {
     "base_uri": "https://localhost:8080/"
    },
    "id": "EZyXDZA3mTNO",
    "outputId": "440fe76e-e930-4e3a-aea5-417523b0c101"
   },
   "outputs": [
    {
     "name": "stdout",
     "output_type": "stream",
     "text": [
      "Epoch 1/100\n",
      "804/804 [==============================] - 1s 468us/step - loss: 0.5694 - accuracy: 0.7221\n",
      "Epoch 2/100\n",
      "804/804 [==============================] - 0s 441us/step - loss: 0.5550 - accuracy: 0.7308\n",
      "Epoch 3/100\n",
      "804/804 [==============================] - 0s 438us/step - loss: 0.5529 - accuracy: 0.7308\n",
      "Epoch 4/100\n",
      "804/804 [==============================] - 0s 436us/step - loss: 0.5514 - accuracy: 0.7320\n",
      "Epoch 5/100\n",
      "804/804 [==============================] - 0s 439us/step - loss: 0.5506 - accuracy: 0.7315\n",
      "Epoch 6/100\n",
      "804/804 [==============================] - 0s 441us/step - loss: 0.5495 - accuracy: 0.7325\n",
      "Epoch 7/100\n",
      "804/804 [==============================] - 0s 440us/step - loss: 0.5485 - accuracy: 0.7323\n",
      "Epoch 8/100\n",
      "804/804 [==============================] - 0s 439us/step - loss: 0.5474 - accuracy: 0.7340\n",
      "Epoch 9/100\n",
      "804/804 [==============================] - 0s 469us/step - loss: 0.5475 - accuracy: 0.7362\n",
      "Epoch 10/100\n",
      "804/804 [==============================] - 0s 439us/step - loss: 0.5460 - accuracy: 0.7348\n",
      "Epoch 11/100\n",
      "804/804 [==============================] - 0s 439us/step - loss: 0.5456 - accuracy: 0.7349\n",
      "Epoch 12/100\n",
      "804/804 [==============================] - 0s 437us/step - loss: 0.5456 - accuracy: 0.7358\n",
      "Epoch 13/100\n",
      "804/804 [==============================] - 0s 438us/step - loss: 0.5447 - accuracy: 0.7350\n",
      "Epoch 14/100\n",
      "804/804 [==============================] - 0s 438us/step - loss: 0.5447 - accuracy: 0.7357\n",
      "Epoch 15/100\n",
      "804/804 [==============================] - 0s 437us/step - loss: 0.5441 - accuracy: 0.7365\n",
      "Epoch 16/100\n",
      "804/804 [==============================] - 0s 432us/step - loss: 0.5441 - accuracy: 0.7371\n",
      "Epoch 17/100\n",
      "804/804 [==============================] - 0s 439us/step - loss: 0.5433 - accuracy: 0.7370\n",
      "Epoch 18/100\n",
      "804/804 [==============================] - 0s 436us/step - loss: 0.5430 - accuracy: 0.7367\n",
      "Epoch 19/100\n",
      "804/804 [==============================] - 0s 437us/step - loss: 0.5425 - accuracy: 0.7371\n",
      "Epoch 20/100\n",
      "804/804 [==============================] - 0s 438us/step - loss: 0.5425 - accuracy: 0.7381\n",
      "Epoch 21/100\n",
      "804/804 [==============================] - 0s 438us/step - loss: 0.5422 - accuracy: 0.7373\n",
      "Epoch 22/100\n",
      "804/804 [==============================] - 0s 438us/step - loss: 0.5421 - accuracy: 0.7383\n",
      "Epoch 23/100\n",
      "804/804 [==============================] - 0s 436us/step - loss: 0.5414 - accuracy: 0.7380\n",
      "Epoch 24/100\n",
      "804/804 [==============================] - 0s 439us/step - loss: 0.5416 - accuracy: 0.7382\n",
      "Epoch 25/100\n",
      "804/804 [==============================] - 0s 439us/step - loss: 0.5413 - accuracy: 0.7390\n",
      "Epoch 26/100\n",
      "804/804 [==============================] - 0s 428us/step - loss: 0.5406 - accuracy: 0.7392\n",
      "Epoch 27/100\n",
      "804/804 [==============================] - 0s 448us/step - loss: 0.5404 - accuracy: 0.7378\n",
      "Epoch 28/100\n",
      "804/804 [==============================] - 0s 437us/step - loss: 0.5402 - accuracy: 0.7391\n",
      "Epoch 29/100\n",
      "804/804 [==============================] - 0s 437us/step - loss: 0.5403 - accuracy: 0.7384\n",
      "Epoch 30/100\n",
      "804/804 [==============================] - 0s 439us/step - loss: 0.5403 - accuracy: 0.7381\n",
      "Epoch 31/100\n",
      "804/804 [==============================] - 0s 437us/step - loss: 0.5396 - accuracy: 0.7383\n",
      "Epoch 32/100\n",
      "804/804 [==============================] - 0s 437us/step - loss: 0.5395 - accuracy: 0.7386\n",
      "Epoch 33/100\n",
      "804/804 [==============================] - 0s 438us/step - loss: 0.5387 - accuracy: 0.7385\n",
      "Epoch 34/100\n",
      "804/804 [==============================] - 0s 437us/step - loss: 0.5388 - accuracy: 0.7393\n",
      "Epoch 35/100\n",
      "804/804 [==============================] - 0s 436us/step - loss: 0.5389 - accuracy: 0.7385\n",
      "Epoch 36/100\n",
      "804/804 [==============================] - 0s 450us/step - loss: 0.5386 - accuracy: 0.7395\n",
      "Epoch 37/100\n",
      "804/804 [==============================] - 0s 448us/step - loss: 0.5383 - accuracy: 0.7393\n",
      "Epoch 38/100\n",
      "804/804 [==============================] - 0s 439us/step - loss: 0.5382 - accuracy: 0.7398\n",
      "Epoch 39/100\n",
      "804/804 [==============================] - 0s 437us/step - loss: 0.5378 - accuracy: 0.7397\n",
      "Epoch 40/100\n",
      "804/804 [==============================] - 0s 439us/step - loss: 0.5377 - accuracy: 0.7399\n",
      "Epoch 41/100\n",
      "804/804 [==============================] - 0s 438us/step - loss: 0.5373 - accuracy: 0.7395\n",
      "Epoch 42/100\n",
      "804/804 [==============================] - 0s 437us/step - loss: 0.5371 - accuracy: 0.7397\n",
      "Epoch 43/100\n",
      "804/804 [==============================] - 0s 437us/step - loss: 0.5368 - accuracy: 0.7401\n",
      "Epoch 44/100\n",
      "804/804 [==============================] - 0s 439us/step - loss: 0.5368 - accuracy: 0.7393\n",
      "Epoch 45/100\n",
      "804/804 [==============================] - 0s 436us/step - loss: 0.5365 - accuracy: 0.7395\n",
      "Epoch 46/100\n",
      "804/804 [==============================] - 0s 435us/step - loss: 0.5368 - accuracy: 0.7406\n",
      "Epoch 47/100\n",
      "804/804 [==============================] - 0s 437us/step - loss: 0.5362 - accuracy: 0.7405\n",
      "Epoch 48/100\n",
      "804/804 [==============================] - 0s 437us/step - loss: 0.5362 - accuracy: 0.7410\n",
      "Epoch 49/100\n",
      "804/804 [==============================] - 0s 437us/step - loss: 0.5360 - accuracy: 0.7397\n",
      "Epoch 50/100\n",
      "804/804 [==============================] - 0s 436us/step - loss: 0.5359 - accuracy: 0.7402\n",
      "Epoch 51/100\n",
      "804/804 [==============================] - 0s 437us/step - loss: 0.5360 - accuracy: 0.7397\n",
      "Epoch 52/100\n",
      "804/804 [==============================] - 0s 437us/step - loss: 0.5356 - accuracy: 0.7407\n",
      "Epoch 53/100\n",
      "804/804 [==============================] - 0s 438us/step - loss: 0.5350 - accuracy: 0.7409\n",
      "Epoch 54/100\n",
      "804/804 [==============================] - 0s 440us/step - loss: 0.5353 - accuracy: 0.7406\n",
      "Epoch 55/100\n",
      "804/804 [==============================] - 0s 465us/step - loss: 0.5347 - accuracy: 0.7411\n",
      "Epoch 56/100\n",
      "804/804 [==============================] - 0s 471us/step - loss: 0.5349 - accuracy: 0.7404\n",
      "Epoch 57/100\n",
      "804/804 [==============================] - 0s 441us/step - loss: 0.5345 - accuracy: 0.7409\n",
      "Epoch 58/100\n",
      "804/804 [==============================] - 0s 439us/step - loss: 0.5344 - accuracy: 0.7410\n",
      "Epoch 59/100\n",
      "804/804 [==============================] - 0s 443us/step - loss: 0.5345 - accuracy: 0.7413\n",
      "Epoch 60/100\n",
      "804/804 [==============================] - 0s 439us/step - loss: 0.5342 - accuracy: 0.7408\n",
      "Epoch 61/100\n",
      "804/804 [==============================] - 0s 439us/step - loss: 0.5340 - accuracy: 0.7411\n",
      "Epoch 62/100\n",
      "804/804 [==============================] - 0s 437us/step - loss: 0.5342 - accuracy: 0.7414\n",
      "Epoch 63/100\n",
      "804/804 [==============================] - 0s 441us/step - loss: 0.5343 - accuracy: 0.7405\n",
      "Epoch 64/100\n",
      "804/804 [==============================] - 0s 440us/step - loss: 0.5338 - accuracy: 0.7418\n",
      "Epoch 65/100\n",
      "804/804 [==============================] - 0s 468us/step - loss: 0.5338 - accuracy: 0.7414\n",
      "Epoch 66/100\n",
      "804/804 [==============================] - 0s 444us/step - loss: 0.5336 - accuracy: 0.7414\n",
      "Epoch 67/100\n",
      "804/804 [==============================] - 0s 451us/step - loss: 0.5337 - accuracy: 0.7414\n",
      "Epoch 68/100\n",
      "804/804 [==============================] - 0s 470us/step - loss: 0.5334 - accuracy: 0.7407\n",
      "Epoch 69/100\n",
      "804/804 [==============================] - 0s 440us/step - loss: 0.5336 - accuracy: 0.7414\n",
      "Epoch 70/100\n",
      "804/804 [==============================] - 0s 440us/step - loss: 0.5334 - accuracy: 0.7413\n",
      "Epoch 71/100\n",
      "804/804 [==============================] - 0s 451us/step - loss: 0.5331 - accuracy: 0.7413\n",
      "Epoch 72/100\n",
      "804/804 [==============================] - 0s 445us/step - loss: 0.5330 - accuracy: 0.7416\n",
      "Epoch 73/100\n",
      "804/804 [==============================] - 0s 438us/step - loss: 0.5325 - accuracy: 0.7415\n",
      "Epoch 74/100\n",
      "804/804 [==============================] - 0s 440us/step - loss: 0.5327 - accuracy: 0.7411\n",
      "Epoch 75/100\n",
      "804/804 [==============================] - 0s 437us/step - loss: 0.5326 - accuracy: 0.7417\n",
      "Epoch 76/100\n",
      "804/804 [==============================] - 0s 440us/step - loss: 0.5327 - accuracy: 0.7414\n",
      "Epoch 77/100\n",
      "804/804 [==============================] - 0s 435us/step - loss: 0.5327 - accuracy: 0.7416\n",
      "Epoch 78/100\n",
      "804/804 [==============================] - 0s 440us/step - loss: 0.5320 - accuracy: 0.7422\n",
      "Epoch 79/100\n"
     ]
    },
    {
     "name": "stdout",
     "output_type": "stream",
     "text": [
      "804/804 [==============================] - 0s 439us/step - loss: 0.5325 - accuracy: 0.7414\n",
      "Epoch 80/100\n",
      "804/804 [==============================] - 0s 440us/step - loss: 0.5331 - accuracy: 0.7413\n",
      "Epoch 81/100\n",
      "804/804 [==============================] - 0s 438us/step - loss: 0.5322 - accuracy: 0.7413\n",
      "Epoch 82/100\n",
      "804/804 [==============================] - 0s 439us/step - loss: 0.5326 - accuracy: 0.7411\n",
      "Epoch 83/100\n",
      "804/804 [==============================] - 0s 440us/step - loss: 0.5325 - accuracy: 0.7411\n",
      "Epoch 84/100\n",
      "804/804 [==============================] - 0s 438us/step - loss: 0.5322 - accuracy: 0.7415\n",
      "Epoch 85/100\n",
      "804/804 [==============================] - 0s 438us/step - loss: 0.5322 - accuracy: 0.7417\n",
      "Epoch 86/100\n",
      "804/804 [==============================] - 0s 441us/step - loss: 0.5321 - accuracy: 0.7421\n",
      "Epoch 87/100\n",
      "804/804 [==============================] - 0s 437us/step - loss: 0.5320 - accuracy: 0.7420\n",
      "Epoch 88/100\n",
      "804/804 [==============================] - 0s 441us/step - loss: 0.5325 - accuracy: 0.7415\n",
      "Epoch 89/100\n",
      "804/804 [==============================] - 0s 441us/step - loss: 0.5319 - accuracy: 0.7416\n",
      "Epoch 90/100\n",
      "804/804 [==============================] - 0s 439us/step - loss: 0.5321 - accuracy: 0.7422\n",
      "Epoch 91/100\n",
      "804/804 [==============================] - 0s 443us/step - loss: 0.5321 - accuracy: 0.7417\n",
      "Epoch 92/100\n",
      "804/804 [==============================] - 0s 454us/step - loss: 0.5320 - accuracy: 0.7422\n",
      "Epoch 93/100\n",
      "804/804 [==============================] - 0s 438us/step - loss: 0.5316 - accuracy: 0.7422\n",
      "Epoch 94/100\n",
      "804/804 [==============================] - 0s 440us/step - loss: 0.5318 - accuracy: 0.7414\n",
      "Epoch 95/100\n",
      "804/804 [==============================] - 0s 437us/step - loss: 0.5320 - accuracy: 0.7421\n",
      "Epoch 96/100\n",
      "804/804 [==============================] - 0s 440us/step - loss: 0.5315 - accuracy: 0.7420\n",
      "Epoch 97/100\n",
      "804/804 [==============================] - 0s 438us/step - loss: 0.5316 - accuracy: 0.7415\n",
      "Epoch 98/100\n",
      "804/804 [==============================] - 0s 440us/step - loss: 0.5313 - accuracy: 0.7426\n",
      "Epoch 99/100\n",
      "804/804 [==============================] - 0s 439us/step - loss: 0.5316 - accuracy: 0.7418\n",
      "Epoch 100/100\n",
      "804/804 [==============================] - 0s 440us/step - loss: 0.5314 - accuracy: 0.7419\n"
     ]
    }
   ],
   "source": [
    "# Train the model\n",
    "fit_model = nn.fit(X_train_scaled, y_train, epochs=100, batch_size=32)"
   ]
  },
  {
   "cell_type": "code",
   "execution_count": 19,
   "metadata": {
    "colab": {
     "base_uri": "https://localhost:8080/"
    },
    "id": "6GqWAouCmTNO",
    "outputId": "f6edda0d-c477-4671-ad70-12f57362769e"
   },
   "outputs": [
    {
     "name": "stdout",
     "output_type": "stream",
     "text": [
      "268/268 - 0s - loss: 0.5644 - accuracy: 0.7270 - 131ms/epoch - 488us/step\n",
      "Loss: 0.5644089579582214, Accuracy: 0.7269970774650574\n"
     ]
    }
   ],
   "source": [
    "# Evaluate the model using the test data\n",
    "model_loss, model_accuracy = nn.evaluate(X_test_scaled,y_test,verbose=2)\n",
    "print(f\"Loss: {model_loss}, Accuracy: {model_accuracy}\")"
   ]
  },
  {
   "cell_type": "code",
   "execution_count": 20,
   "metadata": {
    "colab": {
     "base_uri": "https://localhost:8080/"
    },
    "id": "hDC6qeBbmTNP",
    "outputId": "053856e0-2eb4-4894-df77-5cff1fcb5f48"
   },
   "outputs": [
    {
     "name": "stderr",
     "output_type": "stream",
     "text": [
      "/Users/terrycleek/anaconda3/lib/python3.10/site-packages/keras/src/engine/training.py:3079: UserWarning: You are saving your model as an HDF5 file via `model.save()`. This file format is considered legacy. We recommend using instead the native Keras format, e.g. `model.save('my_model.keras')`.\n",
      "  saving_api.save_model(\n"
     ]
    }
   ],
   "source": [
    "# Export our model to HDF5 file\n",
    "nn.save(\"AlphabetSoupCharity_Optimization.h5\")"
   ]
  },
  {
   "cell_type": "code",
   "execution_count": null,
   "metadata": {
    "id": "RgUv08NZmTNP"
   },
   "outputs": [],
   "source": []
  }
 ],
 "metadata": {
  "colab": {
   "provenance": []
  },
  "kernelspec": {
   "display_name": "Python 3 (ipykernel)",
   "language": "python",
   "name": "python3"
  },
  "language_info": {
   "codemirror_mode": {
    "name": "ipython",
    "version": 3
   },
   "file_extension": ".py",
   "mimetype": "text/x-python",
   "name": "python",
   "nbconvert_exporter": "python",
   "pygments_lexer": "ipython3",
   "version": "3.10.13"
  },
  "vscode": {
   "interpreter": {
    "hash": "31f2aee4e71d21fbe5cf8b01ff0e069b9275f58929596ceb00d14d90e3e16cd6"
   }
  }
 },
 "nbformat": 4,
 "nbformat_minor": 1
}
